{
 "cells": [
  {
   "cell_type": "markdown",
   "metadata": {
    "collapsed": true
   },
   "source": [
    "# Web services\n",
    "Through the process of rapid prototyping, there will be times when you want to test a deployment of your algorithm or system with the rest of your enterprise's infrastructure.\n",
    "\n",
    "RESTful web services is a common interface for enterprise components to interact with each other.\n",
    "\n",
    "This notebook will be run differently from the other notebooks, as we will be interacting with \n"
   ]
  },
  {
   "cell_type": "markdown",
   "metadata": {},
   "source": [
    "First, we develop a function which is responsible for some analytics work.<br>\n",
    "In the example, we are using a whoami() function just for demo purposes."
   ]
  },
  {
   "cell_type": "code",
   "execution_count": 1,
   "metadata": {
    "collapsed": true
   },
   "outputs": [],
   "source": [
    "def whoami():\n",
    "    return \"Michael\""
   ]
  },
  {
   "cell_type": "code",
   "execution_count": 2,
   "metadata": {
    "collapsed": false
   },
   "outputs": [
    {
     "data": {
      "text/plain": [
       "'Michael'"
      ]
     },
     "execution_count": 2,
     "metadata": {},
     "output_type": "execute_result"
    }
   ],
   "source": [
    "# testing \n",
    "whoami()"
   ]
  },
  {
   "cell_type": "code",
   "execution_count": null,
   "metadata": {
    "collapsed": true
   },
   "outputs": [],
   "source": []
  },
  {
   "cell_type": "markdown",
   "metadata": {},
   "source": [
    "Second, we create a web service with flask.<br>\n",
    "Flask is a web-development micro framework.<br>\n",
    "It allows you to rapidly develop and deploy services and test on functionality on its own development server. <br>\n",
    "But it also allows you to then deploy it to production web servers (more on this later)."
   ]
  },
  {
   "cell_type": "markdown",
   "metadata": {},
   "source": [
    "The below code is found in your project directory <b>WebServices/simpleWebservice.py</b><br>\n",
    "The code should be run from commandline as it is launching a development server. <br>\n",
    "A <b>runSimpleWebservice.bat</b> has been created so you may just double click it to launch the server.\n"
   ]
  },
  {
   "cell_type": "raw",
   "metadata": {},
   "source": [
    "from flask import Flask\n",
    "\n",
    "app = Flask(__name__)\n",
    "\n",
    "@app.route(\"/\")\n",
    "def whoami():\n",
    "    return \"Michael\"\n",
    "\n",
    "if __name__ == '__main__':\n",
    "    app.run(debug=True,port=9999)\n"
   ]
  },
  {
   "cell_type": "markdown",
   "metadata": {},
   "source": [
    "Note that if you go to http://localhost:9999 in your browser, you will get the result from the whoami function!<br>\n",
    "Remember to close the terminal window when you are done with your development webserver"
   ]
  },
  {
   "cell_type": "code",
   "execution_count": null,
   "metadata": {
    "collapsed": false
   },
   "outputs": [],
   "source": []
  },
  {
   "cell_type": "markdown",
   "metadata": {},
   "source": [
    "Third, we create a documentation page for the endpoint and convert it to a RESTful web service at the same time using the flask-restplus library<br>\n",
    "\n",
    "The below code is found in your project directory <b>WebServices/restWebservice.py</b><br>\n",
    "The code should be run from commandline as it is launching a development server. <br>\n",
    "A <b>runRestWebservice.bat</b> has been created so you may just double click it to launch the server.\n"
   ]
  },
  {
   "cell_type": "raw",
   "metadata": {},
   "source": [
    "from flask import Flask\n",
    "from flask import request\n",
    "from flask_restplus import Api, Resource, fields\n",
    "from flask_restplus import reqparse\n",
    "\n",
    "app = Flask(__name__)\n",
    "\n",
    "# basic documentation\n",
    "api = Api(app, version='0.1', title='BA API',\n",
    "    description='A simple BA API',\n",
    ")\n",
    "\n",
    "ns = api.namespace('webservices', description='BA webservices')\n",
    "\n",
    "# create a data object to define inputs required for a rest call\n",
    "hello_post_inputs = reqparse.RequestParser()\n",
    "hello_post_inputs.add_argument(\"name\", type=str, required=True)\n",
    "\n",
    "myName  = \"Michael\"\n",
    "\n",
    "@ns.route('/hello')\n",
    "class BA_WS(Resource):\n",
    "    # note the function names get/put/post/delete are all restful service names\n",
    "    def get(self):\n",
    "        return \"hello \" + str(whoami())\n",
    "\n",
    "    @ns.expect(hello_post_inputs)\n",
    "    def post(self):\n",
    "        # global tells the function to use the global scope of the variable myName\n",
    "        global myName\n",
    "        args = hello_post_inputs.parse_args(request)\n",
    "        newNameString = args['name']\n",
    "        if newNameString:\n",
    "            myName = newNameString\n",
    "        return \"Success\"\n",
    "\n",
    "def whoami():\n",
    "    return myName\n",
    "\n",
    "if __name__ == '__main__':\n",
    "    app.run(debug=True,port=9999)"
   ]
  },
  {
   "cell_type": "markdown",
   "metadata": {},
   "source": [
    "Try http://localhost:9999 in your browser, your interface would have changed greatly and include an interface to test your services"
   ]
  },
  {
   "cell_type": "markdown",
   "metadata": {},
   "source": [
    "The interface shown is a documentation standard (swagger) for webservices which also allows the user to test the webservices from the interface, reducing an extra tool needed to test your service"
   ]
  },
  {
   "cell_type": "code",
   "execution_count": null,
   "metadata": {
    "collapsed": true
   },
   "outputs": [],
   "source": []
  },
  {
   "cell_type": "code",
   "execution_count": null,
   "metadata": {
    "collapsed": true
   },
   "outputs": [],
   "source": []
  },
  {
   "cell_type": "code",
   "execution_count": null,
   "metadata": {
    "collapsed": true
   },
   "outputs": [],
   "source": []
  },
  {
   "cell_type": "code",
   "execution_count": null,
   "metadata": {
    "collapsed": true
   },
   "outputs": [],
   "source": []
  }
 ],
 "metadata": {
  "kernelspec": {
   "display_name": "Python 3",
   "language": "python",
   "name": "python3"
  },
  "language_info": {
   "codemirror_mode": {
    "name": "ipython",
    "version": 3
   },
   "file_extension": ".py",
   "mimetype": "text/x-python",
   "name": "python",
   "nbconvert_exporter": "python",
   "pygments_lexer": "ipython3",
   "version": "3.4.5"
  }
 },
 "nbformat": 4,
 "nbformat_minor": 2
}
