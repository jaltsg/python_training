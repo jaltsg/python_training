{
 "cells": [
  {
   "cell_type": "code",
   "execution_count": 85,
   "metadata": {
    "collapsed": true
   },
   "outputs": [],
   "source": [
    "import nltk\n",
    "from nltk.sentiment import SentimentIntensityAnalyzer\n",
    "import numpy"
   ]
  },
  {
   "cell_type": "code",
   "execution_count": 17,
   "metadata": {
    "collapsed": false
   },
   "outputs": [],
   "source": [
    "vaderAnalyzer = SentimentIntensityAnalyzer()"
   ]
  },
  {
   "cell_type": "code",
   "execution_count": 39,
   "metadata": {
    "collapsed": false
   },
   "outputs": [
    {
     "data": {
      "text/plain": [
       "{'compound': 0.296, 'neg': 0.0, 'neu': 0.484, 'pos': 0.516}"
      ]
     },
     "execution_count": 39,
     "metadata": {},
     "output_type": "execute_result"
    }
   ],
   "source": [
    "sentimentScores = vaderAnalyzer.polarity_scores(\"This is a sample sentence ;)\")\n",
    "sentimentScores"
   ]
  },
  {
   "cell_type": "code",
   "execution_count": null,
   "metadata": {
    "collapsed": false
   },
   "outputs": [],
   "source": []
  },
  {
   "cell_type": "code",
   "execution_count": 19,
   "metadata": {
    "collapsed": false
   },
   "outputs": [],
   "source": [
    "# these are vader test sentences\n",
    "sentences = [\"VADER is smart, handsome, and funny.\", # positive sentence example\n",
    "...    \"VADER is smart, handsome, and funny!\", # punctuation emphasis handled correctly (sentiment intensity adjusted)\n",
    "...    \"VADER is very smart, handsome, and funny.\",  # booster words handled correctly (sentiment intensity adjusted)\n",
    "...    \"VADER is VERY SMART, handsome, and FUNNY.\",  # emphasis for ALLCAPS handled\n",
    "...    \"VADER is VERY SMART, handsome, and FUNNY!!!\",# combination of signals - VADER appropriately adjusts intensity\n",
    "...    \"VADER is VERY SMART, really handsome, and INCREDIBLY FUNNY!!!\",# booster words & punctuation make this close to ceiling for score\n",
    "...    \"The book was good.\",         # positive sentence\n",
    "...    \"The book was kind of good.\", # qualified positive sentence is handled correctly (intensity adjusted)\n",
    "...    \"The plot was good, but the characters are uncompelling and the dialog is not great.\", # mixed negation sentence\n",
    "...    \"A really bad, horrible book.\",       # negative sentence with booster words\n",
    "...    \"At least it isn't a horrible book.\", # negated negative sentence with contraction\n",
    "...    \":) and :D\",     # emoticons handled\n",
    "...    \"\",              # an empty string is correctly handled\n",
    "...    \"Today sux\",     #  negative slang handled\n",
    "...    \"Today sux!\",    #  negative slang with punctuation emphasis handled\n",
    "...    \"Today SUX!\",    #  negative slang with capitalization emphasis\n",
    "...    \"Today kinda sux! But I'll get by, lol\" # mixed sentiment example with slang and constrastive conjunction \"but\"\n",
    "... ]"
   ]
  },
  {
   "cell_type": "code",
   "execution_count": 52,
   "metadata": {
    "collapsed": false
   },
   "outputs": [
    {
     "name": "stdout",
     "output_type": "stream",
     "text": [
      "VADER is smart, handsome, and funny.\n",
      "\t0.8316\n",
      "VADER is smart, handsome, and funny!\n",
      "\t0.8439\n",
      "VADER is very smart, handsome, and funny.\n",
      "\t0.8545\n",
      "VADER is VERY SMART, handsome, and FUNNY.\n",
      "\t0.9227\n",
      "VADER is VERY SMART, handsome, and FUNNY!!!\n",
      "\t0.9342\n",
      "VADER is VERY SMART, really handsome, and INCREDIBLY FUNNY!!!\n",
      "\t0.9469\n",
      "The book was good.\n",
      "\t0.4404\n",
      "The book was kind of good.\n",
      "\t0.3832\n",
      "The plot was good, but the characters are uncompelling and the dialog is not great.\n",
      "\t-0.7042\n",
      "A really bad, horrible book.\n",
      "\t-0.8211\n",
      "At least it isn't a horrible book.\n",
      "\t0.431\n",
      ":) and :D\n",
      "\t0.7925\n",
      "\n",
      "\t0.0\n",
      "Today sux\n",
      "\t-0.3612\n",
      "Today sux!\n",
      "\t-0.4199\n",
      "Today SUX!\n",
      "\t-0.5461\n",
      "Today kinda sux! But I'll get by, lol\n",
      "\t0.2228\n"
     ]
    }
   ],
   "source": [
    "for sentence in sentences:\n",
    "    print(sentence)\n",
    "    sentimentScores = vaderAnalyzer.polarity_scores(sentence)\n",
    "    print(\"\\t\" + str(sentimentScores[\"compound\"]))"
   ]
  },
  {
   "cell_type": "code",
   "execution_count": 64,
   "metadata": {
    "collapsed": false
   },
   "outputs": [],
   "source": [
    "doubleNegationSentence = \"I do not dislike the new iphone\""
   ]
  },
  {
   "cell_type": "code",
   "execution_count": 65,
   "metadata": {
    "collapsed": false
   },
   "outputs": [
    {
     "data": {
      "text/plain": [
       "{'compound': 0.2924, 'neg': 0.0, 'neu': 0.696, 'pos': 0.304}"
      ]
     },
     "execution_count": 65,
     "metadata": {},
     "output_type": "execute_result"
    }
   ],
   "source": [
    "vaderAnalyzer.polarity_scores(doubleNegationSentence)"
   ]
  },
  {
   "cell_type": "code",
   "execution_count": 72,
   "metadata": {
    "collapsed": false
   },
   "outputs": [
    {
     "data": {
      "text/plain": [
       "{'compound': 0.0, 'neg': 0.0, 'neu': 1.0, 'pos': 0.0}"
      ]
     },
     "execution_count": 72,
     "metadata": {},
     "output_type": "execute_result"
    }
   ],
   "source": [
    "vaderAnalyzer.polarity_scores(\"\")"
   ]
  },
  {
   "cell_type": "code",
   "execution_count": 74,
   "metadata": {
    "collapsed": true
   },
   "outputs": [],
   "source": [
    "tricky_sentences = [\n",
    "...    \"Most automated sentiment analysis tools are shit.\",\n",
    "...    \"VADER sentiment analysis is the shit.\",\n",
    "...    \"Sentiment analysis has never been good.\",\n",
    "...    \"Sentiment analysis with VADER has never been this good.\",\n",
    "...    \"Warren Beatty has never been so entertaining.\",\n",
    "...    \"I won't say that the movie is astounding and I wouldn't claim that \\\n",
    "...    the movie is too banal either.\",\n",
    "...    \"I like to hate Michael Bay films, but I couldn't fault this one\",\n",
    "...    \"It's one thing to watch an Uwe Boll film, but another thing entirely \\\n",
    "...    to pay for it\",\n",
    "...    \"The movie was too good\",\n",
    "...    \"This movie was actually neither that funny, nor super witty.\",\n",
    "...    \"This movie doesn't care about cleverness, wit or any other kind of \\\n",
    "...    intelligent humor.\",\n",
    "...    \"Those who find ugly meanings in beautiful things are corrupt without \\\n",
    "...    being charming.\",\n",
    "...    \"There are slow and repetitive parts, BUT it has just enough spice to \\\n",
    "...    keep it interesting.\",\n",
    "...    \"The script is not fantastic, but the acting is decent and the cinematography \\\n",
    "...    is EXCELLENT!\",\n",
    "...    \"Roger Dodger is one of the most compelling variations on this theme.\",\n",
    "...    \"Roger Dodger is one of the least compelling variations on this theme.\",\n",
    "...    \"Roger Dodger is at least compelling as a variation on the theme.\",\n",
    "...    \"they fall in love with the product\",\n",
    "...    \"but then it breaks\",\n",
    "...    \"usually around the time the 90 day warranty expires\",\n",
    "...    \"the twin towers collapsed today\",\n",
    "...    \"However, Mr. Carter solemnly argues, his client carried out the kidnapping \\\n",
    "...    under orders and in the ''least offensive way possible.''\"\n",
    "... ]"
   ]
  },
  {
   "cell_type": "code",
   "execution_count": 75,
   "metadata": {
    "collapsed": false
   },
   "outputs": [
    {
     "name": "stdout",
     "output_type": "stream",
     "text": [
      "Most automated sentiment analysis tools are shit.\n",
      "\t-0.5574\n",
      "VADER sentiment analysis is the shit.\n",
      "\t0.6124\n",
      "Sentiment analysis has never been good.\n",
      "\t-0.3412\n",
      "Sentiment analysis with VADER has never been this good.\n",
      "\t0.5228\n",
      "Warren Beatty has never been so entertaining.\n",
      "\t0.5777\n",
      "I won't say that the movie is astounding and I wouldn't claim that    the movie is too banal either.\n",
      "\t0.4215\n",
      "I like to hate Michael Bay films, but I couldn't fault this one\n",
      "\t0.3153\n",
      "It's one thing to watch an Uwe Boll film, but another thing entirely    to pay for it\n",
      "\t-0.2541\n",
      "The movie was too good\n",
      "\t0.4404\n",
      "This movie was actually neither that funny, nor super witty.\n",
      "\t-0.6759\n",
      "This movie doesn't care about cleverness, wit or any other kind of    intelligent humor.\n",
      "\t-0.1338\n",
      "Those who find ugly meanings in beautiful things are corrupt without    being charming.\n",
      "\t-0.3553\n",
      "There are slow and repetitive parts, BUT it has just enough spice to    keep it interesting.\n",
      "\t0.4678\n",
      "The script is not fantastic, but the acting is decent and the cinematography    is EXCELLENT!\n",
      "\t0.7565\n",
      "Roger Dodger is one of the most compelling variations on this theme.\n",
      "\t0.2944\n",
      "Roger Dodger is one of the least compelling variations on this theme.\n",
      "\t-0.1695\n",
      "Roger Dodger is at least compelling as a variation on the theme.\n",
      "\t0.2263\n",
      "they fall in love with the product\n",
      "\t0.6369\n",
      "but then it breaks\n",
      "\t0.0\n",
      "usually around the time the 90 day warranty expires\n",
      "\t0.0\n",
      "the twin towers collapsed today\n",
      "\t-0.2732\n",
      "However, Mr. Carter solemnly argues, his client carried out the kidnapping    under orders and in the ''least offensive way possible.''\n",
      "\t-0.5859\n"
     ]
    }
   ],
   "source": [
    "for sentence in tricky_sentences:\n",
    "    print(sentence)\n",
    "    sentimentScores = vaderAnalyzer.polarity_scores(sentence)\n",
    "    print(\"\\t\" + str(sentimentScores[\"compound\"]))"
   ]
  },
  {
   "cell_type": "code",
   "execution_count": 98,
   "metadata": {
    "collapsed": true
   },
   "outputs": [],
   "source": [
    "# text that spans multiple lines can be defined as such with triple quotes.\n",
    "# it is also useful to use triple quotes if your string has different quotes in it\n",
    "reviewText = \"\"\"\n",
    "Went for dinner with a few friends, decent ambience with outdoor seating. Food was rather average at least for my palate. Thought it to be neither here nor there and felt the food could be somewhat bolder. The pulled beef pasta was overdone and the rendang's sweetness made it rather one dimensional as that was all they was to it unfortunately. Black pepper prawns pasta was not too bad with fresh succulent prawns that were crunchy and delicately presented. Overall, had expected perhaps a bit more.\n",
    "\"\"\"\n"
   ]
  },
  {
   "cell_type": "code",
   "execution_count": 101,
   "metadata": {
    "collapsed": false
   },
   "outputs": [
    {
     "data": {
      "text/plain": [
       "['\\nWent for dinner with a few friends, decent ambience with outdoor seating.',\n",
       " 'Food was rather average at least for my palate.',\n",
       " 'Thought it to be neither here nor there and felt the food could be somewhat bolder.',\n",
       " \"The pulled beef pasta was overdone and the rendang's sweetness made it rather one dimensional as that was all they was to it unfortunately.\",\n",
       " 'Black pepper prawns pasta was not too bad with fresh succulent prawns that were crunchy and delicately presented.',\n",
       " 'Overall, had expected perhaps a bit more.']"
      ]
     },
     "execution_count": 101,
     "metadata": {},
     "output_type": "execute_result"
    }
   ],
   "source": [
    "lines = nltk.sent_tokenize(reviewText)\n",
    "lines"
   ]
  },
  {
   "cell_type": "code",
   "execution_count": 100,
   "metadata": {
    "collapsed": false
   },
   "outputs": [
    {
     "data": {
      "text/plain": [
       "0.27301666666666669"
      ]
     },
     "execution_count": 100,
     "metadata": {},
     "output_type": "execute_result"
    }
   ],
   "source": [
    "scores = []\n",
    "for line in lines:\n",
    "    sentimentScores = vaderAnalyzer.polarity_scores(line)\n",
    "    scores += [sentimentScores[\"compound\"]]\n",
    "numpy.mean(scores)"
   ]
  },
  {
   "cell_type": "code",
   "execution_count": null,
   "metadata": {
    "collapsed": true
   },
   "outputs": [],
   "source": []
  },
  {
   "cell_type": "markdown",
   "metadata": {},
   "source": [
    "Additional References:\n",
    "http://t-redactyl.io/blog/2017/04/using-vader-to-handle-sentiment-analysis-with-social-media-text.html\n",
    "http://comp.social.gatech.edu/papers/icwsm14.vader.hutto.pdf\n",
    "Example modifieds from \n",
    "http://www.nltk.org/howto/sentiment.html\n"
   ]
  },
  {
   "cell_type": "code",
   "execution_count": null,
   "metadata": {
    "collapsed": true
   },
   "outputs": [],
   "source": []
  }
 ],
 "metadata": {
  "kernelspec": {
   "display_name": "Python 3",
   "language": "python",
   "name": "python3"
  },
  "language_info": {
   "codemirror_mode": {
    "name": "ipython",
    "version": 3
   },
   "file_extension": ".py",
   "mimetype": "text/x-python",
   "name": "python",
   "nbconvert_exporter": "python",
   "pygments_lexer": "ipython3",
   "version": "3.4.5"
  }
 },
 "nbformat": 4,
 "nbformat_minor": 2
}
