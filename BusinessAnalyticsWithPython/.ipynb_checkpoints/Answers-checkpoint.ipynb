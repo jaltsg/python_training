{
 "cells": [
  {
   "cell_type": "markdown",
   "metadata": {},
   "source": [
    "# Data Understanding\n",
    "What are the different types of data fields?\n"
   ]
  },
  {
   "cell_type": "raw",
   "metadata": {},
   "source": [
    "identifierColumns = [\n",
    "    \"Row ID\",\n",
    "    \"Customer ID\",\n",
    "    \"Customer Name\",\n",
    "    \"Product Name\",\n",
    "    \"State or Province\",\n",
    "    \"City\",\n",
    "    \"Postal Code\",\n",
    "    \"Order Date\",\n",
    "    \"Ship Date\",\n",
    "    \"Order ID\",\n",
    "]"
   ]
  },
  {
   "cell_type": "raw",
   "metadata": {},
   "source": [
    "categoryColumns = [\n",
    "    \"Order Priority\",\n",
    "    \"Ship Mode\",\n",
    "    \"Customer Segment\",\n",
    "    \"Product Category\",\n",
    "    \"Product Sub-Category\",\n",
    "    \"Product Container\",\n",
    "    \"Region\",\n",
    "    \"State or Province\",\n",
    "    \"City\"\n",
    "]"
   ]
  },
  {
   "cell_type": "raw",
   "metadata": {},
   "source": [
    "measurementColumns = [\n",
    "    \"Discount\",\n",
    "    \"Unit Price\",\n",
    "    \"Shipping Cost\",\n",
    "    \"Product Base Margin\",\n",
    "    \"Profit\",\n",
    "    \"Quantity ordered new\",\n",
    "    \"Sales\"\n",
    "]"
   ]
  },
  {
   "cell_type": "markdown",
   "metadata": {},
   "source": [
    "# Descriptive Analytics\n",
    "\n",
    "Try out a few other plots.\n"
   ]
  },
  {
   "cell_type": "raw",
   "metadata": {},
   "source": [
    "salesDF.plot.scatter(\"Profit\", \"Discount\")"
   ]
  },
  {
   "cell_type": "raw",
   "metadata": {},
   "source": [
    "salesDF.boxplot(\"Profit\", by=\"Product Category\")"
   ]
  },
  {
   "cell_type": "markdown",
   "metadata": {},
   "source": [
    "Discussion Excercise: what should be the business action be for Anomaly Detection in this case? <br>\n",
    "\n",
    "Investigate further. if there are not enough data points. request for more. in this case, the anomaly is from shipping cost. but we are lacking information/metadata with regards to the entities shipment and shipping supplier. \n"
   ]
  },
  {
   "cell_type": "markdown",
   "metadata": {},
   "source": [
    "Discussion Excercise: what should be the business action be for Customer Segmentation?<br>\n",
    "\n",
    "deprioritize or cut out non profitable customers. take good care of the valuable customers. profile the valuable customers and find out how to convert other profiles into these valuable ones.\n"
   ]
  },
  {
   "cell_type": "markdown",
   "metadata": {},
   "source": [
    "Other than Sales, what other metric is of importance to the enterprise? Can it be used for Customer Segmentation too? <br>\n",
    "\n",
    "Profit. In fact, it might be better to look at the profit rather than sales/revenue.\n",
    "\n",
    "\n"
   ]
  },
  {
   "cell_type": "markdown",
   "metadata": {},
   "source": [
    "# Affinity Analytics\n",
    "\n"
   ]
  },
  {
   "cell_type": "raw",
   "metadata": {},
   "source": [
    "Discussion Exercise: Should we keep \"bad\" results? \n",
    "\n",
    "Yes. All analysis by BA should be kept for knowledge retention.\n",
    "Thats why Jupyter notebooks are becoming popular. "
   ]
  },
  {
   "cell_type": "raw",
   "metadata": {},
   "source": [
    "What other ways could we bin or basket the data?\n",
    "\n",
    "May want to bin it across months or quarters depending on how frequent your customers buy products from you. \n",
    "However, if there is hardly any basket of goods at all, the market basket analysis will likely fail."
   ]
  },
  {
   "cell_type": "markdown",
   "metadata": {},
   "source": [
    "# Predictive Analytics\n"
   ]
  },
  {
   "cell_type": "markdown",
   "metadata": {
    "collapsed": true
   },
   "source": [
    "Discussion Exercise: Precision and Recall is used to determine how good a model is compared to another one. Is it possible for there to be insights even if the scores are low?\n",
    "\n",
    "Yes, depending on the models you use. For example, the decision tree model has a splitting criteria that is interesting.\n",
    "Since the Gini impurity score shows us how much more imbalanced the ratios are from before, it goes to show if there are certain rules that can be used to segment a cohort of customers\n"
   ]
  },
  {
   "cell_type": "code",
   "execution_count": null,
   "metadata": {
    "collapsed": true
   },
   "outputs": [],
   "source": []
  },
  {
   "cell_type": "code",
   "execution_count": null,
   "metadata": {
    "collapsed": true
   },
   "outputs": [],
   "source": []
  },
  {
   "cell_type": "code",
   "execution_count": null,
   "metadata": {
    "collapsed": true
   },
   "outputs": [],
   "source": []
  }
 ],
 "metadata": {
  "kernelspec": {
   "display_name": "Python 3",
   "language": "python",
   "name": "python3"
  },
  "language_info": {
   "codemirror_mode": {
    "name": "ipython",
    "version": 3
   },
   "file_extension": ".py",
   "mimetype": "text/x-python",
   "name": "python",
   "nbconvert_exporter": "python",
   "pygments_lexer": "ipython3",
   "version": "3.4.5"
  }
 },
 "nbformat": 4,
 "nbformat_minor": 2
}
