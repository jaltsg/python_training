{
 "cells": [
  {
   "cell_type": "code",
   "execution_count": 2,
   "metadata": {},
   "outputs": [
    {
     "name": "stdout",
     "output_type": "stream",
     "text": [
      "C:\\Users\\Maurice Ling\\Desktop\\IntroPython\n"
     ]
    }
   ],
   "source": [
    "# Change to working directory\n",
    "import sys\n",
    "import os\n",
    "\n",
    "os.chdir('C:\\\\Users\\\\Maurice Ling\\\\Desktop\\\\IntroPython')\n",
    "print(os.getcwd())"
   ]
  },
  {
   "cell_type": "code",
   "execution_count": 5,
   "metadata": {},
   "outputs": [
    {
     "name": "stdout",
     "output_type": "stream",
     "text": [
      "1000\n",
      "['1', '40', '97', '38374', '3', 'Alone', '3', '18', '5', '5', '7', '2', '2', '4', '2', '6', '9', '6', '10', '2', '6', '10', '8', '3', '4', '7', '4', '6', '0', '8', '3', '4', '2']\n"
     ]
    }
   ],
   "source": [
    "# Import survey data\n",
    "from diners import diners\n",
    "\n",
    "print(len(diners))\n",
    "print(diners[0])"
   ]
  },
  {
   "cell_type": "code",
   "execution_count": 10,
   "metadata": {},
   "outputs": [
    {
     "name": "stdout",
     "output_type": "stream",
     "text": [
      "Number of receipts = 1000\n",
      "Total receipts ($) = 106615.0\n",
      "Average receipt($) = 106.615\n"
     ]
    }
   ],
   "source": [
    "# Find average receipt size\n",
    "receipt_amount = []\n",
    "for survey in diners:\n",
    "    receipt = survey[7]\n",
    "    receipt = float(receipt)\n",
    "    receipt_amount.append(receipt)\n",
    "    \n",
    "print('Number of receipts = %s' % len(receipt_amount))\n",
    "print('Total receipts ($) = %s' % sum(receipt_amount))\n",
    "print('Average receipt($) = %s' % str(sum(receipt_amount)/\\\n",
    "                                      len(receipt_amount)))"
   ]
  },
  {
   "cell_type": "code",
   "execution_count": 12,
   "metadata": {},
   "outputs": [
    {
     "name": "stdout",
     "output_type": "stream",
     "text": [
      "Number of large receipts = 510\n",
      "Number of small receipts = 490\n"
     ]
    }
   ],
   "source": [
    "# Distribution of receipts\n",
    "\n",
    "threshold = 106.61\n",
    "\n",
    "small_receipts = []\n",
    "large_receipts = []\n",
    "\n",
    "for receipt in receipt_amount:\n",
    "    if receipt > threshold:\n",
    "        large_receipts.append(receipt)\n",
    "    else:\n",
    "        small_receipts.append(receipt)\n",
    "        \n",
    "print('Number of large receipts = %s' % len(large_receipts))\n",
    "print('Number of small receipts = %s' % len(small_receipts))"
   ]
  },
  {
   "cell_type": "code",
   "execution_count": 13,
   "metadata": {},
   "outputs": [
    {
     "name": "stdout",
     "output_type": "stream",
     "text": [
      "No order = 89\n"
     ]
    }
   ],
   "source": [
    "# NO pasta orders\n",
    "no_order = []\n",
    "for survey in diners:\n",
    "    order = survey[23]\n",
    "    no_order.append(order)\n",
    "    \n",
    "count = 0\n",
    "for pasta in no_order:\n",
    "    if pasta == '0':\n",
    "        count = count + 1\n",
    "        \n",
    "print('No order = %s' % count)"
   ]
  },
  {
   "cell_type": "code",
   "execution_count": 18,
   "metadata": {},
   "outputs": [
    {
     "name": "stdout",
     "output_type": "stream",
     "text": [
      "Item: 8\n",
      "Number of orders = 914\n",
      "Average rating = 5.555798687089715\n",
      "Item: 9\n",
      "Number of orders = 907\n",
      "Average rating = 5.26130099228225\n",
      "Item: 10\n",
      "Number of orders = 898\n",
      "Average rating = 5.6080178173719375\n",
      "Item: 11\n",
      "Number of orders = 908\n",
      "Average rating = 5.503303964757709\n",
      "Item: 12\n",
      "Number of orders = 901\n",
      "Average rating = 5.531631520532741\n",
      "Item: 13\n",
      "Number of orders = 921\n",
      "Average rating = 5.7882736156351795\n",
      "Item: 14\n",
      "Number of orders = 905\n",
      "Average rating = 5.468508287292818\n",
      "Item: 15\n",
      "Number of orders = 904\n",
      "Average rating = 5.594026548672566\n",
      "Item: 16\n",
      "Number of orders = 912\n",
      "Average rating = 5.37719298245614\n",
      "Item: 17\n",
      "Number of orders = 912\n",
      "Average rating = 5.442982456140351\n",
      "Item: 18\n",
      "Number of orders = 905\n",
      "Average rating = 5.457458563535911\n",
      "Item: 19\n",
      "Number of orders = 915\n",
      "Average rating = 5.496174863387978\n",
      "Item: 20\n",
      "Number of orders = 919\n",
      "Average rating = 5.633297062023939\n",
      "Item: 21\n",
      "Number of orders = 909\n",
      "Average rating = 5.581958195819582\n",
      "Item: 22\n",
      "Number of orders = 917\n",
      "Average rating = 5.541984732824427\n",
      "Item: 23\n",
      "Number of orders = 911\n",
      "Average rating = 5.538968166849616\n",
      "Item: 24\n",
      "Number of orders = 917\n",
      "Average rating = 5.587786259541985\n",
      "Item: 25\n",
      "Number of orders = 918\n",
      "Average rating = 5.598039215686274\n",
      "Item: 26\n",
      "Number of orders = 905\n",
      "Average rating = 5.539226519337016\n",
      "Item: 27\n",
      "Number of orders = 900\n",
      "Average rating = 5.566666666666666\n",
      "Item: 28\n",
      "Number of orders = 893\n",
      "Average rating = 5.432250839865621\n",
      "Item: 29\n",
      "Number of orders = 894\n",
      "Average rating = 5.732662192393736\n",
      "Item: 30\n",
      "Number of orders = 916\n",
      "Average rating = 5.585152838427947\n",
      "Item: 31\n",
      "Number of orders = 915\n",
      "Average rating = 5.449180327868852\n",
      "Item: 32\n",
      "Number of orders = 903\n",
      "Average rating = 5.563676633444075\n"
     ]
    }
   ],
   "source": [
    "# Ratings\n",
    "\n",
    "for item in range(8, 33):\n",
    "    order = []\n",
    "    for survey in diners:\n",
    "        order.append(survey[item])\n",
    "\n",
    "    ratings = []\n",
    "    for pasta in order:\n",
    "        if pasta != '0':\n",
    "            ratings.append(int(pasta))\n",
    "\n",
    "    print('Item: %s' % item)\n",
    "    print('Number of orders = %s' % len(ratings))\n",
    "    print('Average rating = %s' % str(sum(ratings)/len(ratings)))"
   ]
  },
  {
   "cell_type": "code",
   "execution_count": null,
   "metadata": {},
   "outputs": [],
   "source": []
  }
 ],
 "metadata": {
  "kernelspec": {
   "display_name": "Python 3",
   "language": "python",
   "name": "python3"
  },
  "language_info": {
   "codemirror_mode": {
    "name": "ipython",
    "version": 3
   },
   "file_extension": ".py",
   "mimetype": "text/x-python",
   "name": "python",
   "nbconvert_exporter": "python",
   "pygments_lexer": "ipython3",
   "version": "3.6.6"
  }
 },
 "nbformat": 4,
 "nbformat_minor": 2
}
