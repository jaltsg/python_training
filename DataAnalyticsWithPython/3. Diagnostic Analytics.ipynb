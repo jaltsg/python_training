{
 "cells": [
  {
   "cell_type": "code",
   "execution_count": 14,
   "metadata": {
    "collapsed": true
   },
   "outputs": [],
   "source": [
    "import pandas"
   ]
  },
  {
   "cell_type": "code",
   "execution_count": 15,
   "metadata": {
    "collapsed": true
   },
   "outputs": [],
   "source": [
    "salesDF = pandas.read_excel(\"SampleSalesData.xlsx\")"
   ]
  },
  {
   "cell_type": "code",
   "execution_count": 16,
   "metadata": {},
   "outputs": [
    {
     "data": {
      "text/html": [
       "<div>\n",
       "<style scoped>\n",
       "    .dataframe tbody tr th:only-of-type {\n",
       "        vertical-align: middle;\n",
       "    }\n",
       "\n",
       "    .dataframe tbody tr th {\n",
       "        vertical-align: top;\n",
       "    }\n",
       "\n",
       "    .dataframe thead th {\n",
       "        text-align: right;\n",
       "    }\n",
       "</style>\n",
       "<table border=\"1\" class=\"dataframe\">\n",
       "  <thead>\n",
       "    <tr style=\"text-align: right;\">\n",
       "      <th></th>\n",
       "      <th>Row ID</th>\n",
       "      <th>Discount</th>\n",
       "      <th>Unit Price</th>\n",
       "      <th>Shipping Cost</th>\n",
       "      <th>Customer ID</th>\n",
       "      <th>Product Base Margin</th>\n",
       "      <th>Postal Code</th>\n",
       "      <th>Profit</th>\n",
       "      <th>Quantity ordered new</th>\n",
       "      <th>Sales</th>\n",
       "      <th>Order ID</th>\n",
       "    </tr>\n",
       "  </thead>\n",
       "  <tbody>\n",
       "    <tr>\n",
       "      <th>Row ID</th>\n",
       "      <td>1.000000</td>\n",
       "      <td>0.000159</td>\n",
       "      <td>0.006013</td>\n",
       "      <td>0.006623</td>\n",
       "      <td>0.035232</td>\n",
       "      <td>-0.001871</td>\n",
       "      <td>0.033987</td>\n",
       "      <td>-0.000298</td>\n",
       "      <td>-0.586831</td>\n",
       "      <td>-0.220869</td>\n",
       "      <td>0.918587</td>\n",
       "    </tr>\n",
       "    <tr>\n",
       "      <th>Discount</th>\n",
       "      <td>0.000159</td>\n",
       "      <td>1.000000</td>\n",
       "      <td>0.001242</td>\n",
       "      <td>0.002907</td>\n",
       "      <td>-0.009180</td>\n",
       "      <td>0.006839</td>\n",
       "      <td>-0.001531</td>\n",
       "      <td>-0.032304</td>\n",
       "      <td>-0.008640</td>\n",
       "      <td>-0.014077</td>\n",
       "      <td>0.000350</td>\n",
       "    </tr>\n",
       "    <tr>\n",
       "      <th>Unit Price</th>\n",
       "      <td>0.006013</td>\n",
       "      <td>0.001242</td>\n",
       "      <td>1.000000</td>\n",
       "      <td>0.311096</td>\n",
       "      <td>-0.017679</td>\n",
       "      <td>0.119362</td>\n",
       "      <td>-0.010841</td>\n",
       "      <td>0.245763</td>\n",
       "      <td>-0.037980</td>\n",
       "      <td>0.540051</td>\n",
       "      <td>0.008470</td>\n",
       "    </tr>\n",
       "    <tr>\n",
       "      <th>Shipping Cost</th>\n",
       "      <td>0.006623</td>\n",
       "      <td>0.002907</td>\n",
       "      <td>0.311096</td>\n",
       "      <td>1.000000</td>\n",
       "      <td>-0.019277</td>\n",
       "      <td>0.417205</td>\n",
       "      <td>-0.013294</td>\n",
       "      <td>-0.083272</td>\n",
       "      <td>-0.030452</td>\n",
       "      <td>0.325326</td>\n",
       "      <td>0.007488</td>\n",
       "    </tr>\n",
       "    <tr>\n",
       "      <th>Customer ID</th>\n",
       "      <td>0.035232</td>\n",
       "      <td>-0.009180</td>\n",
       "      <td>-0.017679</td>\n",
       "      <td>-0.019277</td>\n",
       "      <td>1.000000</td>\n",
       "      <td>-0.015510</td>\n",
       "      <td>-0.083468</td>\n",
       "      <td>-0.005771</td>\n",
       "      <td>-0.023643</td>\n",
       "      <td>-0.015770</td>\n",
       "      <td>0.038660</td>\n",
       "    </tr>\n",
       "    <tr>\n",
       "      <th>Product Base Margin</th>\n",
       "      <td>-0.001871</td>\n",
       "      <td>0.006839</td>\n",
       "      <td>0.119362</td>\n",
       "      <td>0.417205</td>\n",
       "      <td>-0.015510</td>\n",
       "      <td>1.000000</td>\n",
       "      <td>-0.004987</td>\n",
       "      <td>-0.093510</td>\n",
       "      <td>0.002285</td>\n",
       "      <td>0.156021</td>\n",
       "      <td>0.004131</td>\n",
       "    </tr>\n",
       "    <tr>\n",
       "      <th>Postal Code</th>\n",
       "      <td>0.033987</td>\n",
       "      <td>-0.001531</td>\n",
       "      <td>-0.010841</td>\n",
       "      <td>-0.013294</td>\n",
       "      <td>-0.083468</td>\n",
       "      <td>-0.004987</td>\n",
       "      <td>1.000000</td>\n",
       "      <td>0.032323</td>\n",
       "      <td>-0.014500</td>\n",
       "      <td>-0.017011</td>\n",
       "      <td>0.038635</td>\n",
       "    </tr>\n",
       "    <tr>\n",
       "      <th>Profit</th>\n",
       "      <td>-0.000298</td>\n",
       "      <td>-0.032304</td>\n",
       "      <td>0.245763</td>\n",
       "      <td>-0.083272</td>\n",
       "      <td>-0.005771</td>\n",
       "      <td>-0.093510</td>\n",
       "      <td>0.032323</td>\n",
       "      <td>1.000000</td>\n",
       "      <td>0.105127</td>\n",
       "      <td>0.396902</td>\n",
       "      <td>0.003720</td>\n",
       "    </tr>\n",
       "    <tr>\n",
       "      <th>Quantity ordered new</th>\n",
       "      <td>-0.586831</td>\n",
       "      <td>-0.008640</td>\n",
       "      <td>-0.037980</td>\n",
       "      <td>-0.030452</td>\n",
       "      <td>-0.023643</td>\n",
       "      <td>0.002285</td>\n",
       "      <td>-0.014500</td>\n",
       "      <td>0.105127</td>\n",
       "      <td>1.000000</td>\n",
       "      <td>0.360657</td>\n",
       "      <td>-0.612492</td>\n",
       "    </tr>\n",
       "    <tr>\n",
       "      <th>Sales</th>\n",
       "      <td>-0.220869</td>\n",
       "      <td>-0.014077</td>\n",
       "      <td>0.540051</td>\n",
       "      <td>0.325326</td>\n",
       "      <td>-0.015770</td>\n",
       "      <td>0.156021</td>\n",
       "      <td>-0.017011</td>\n",
       "      <td>0.396902</td>\n",
       "      <td>0.360657</td>\n",
       "      <td>1.000000</td>\n",
       "      <td>-0.228632</td>\n",
       "    </tr>\n",
       "    <tr>\n",
       "      <th>Order ID</th>\n",
       "      <td>0.918587</td>\n",
       "      <td>0.000350</td>\n",
       "      <td>0.008470</td>\n",
       "      <td>0.007488</td>\n",
       "      <td>0.038660</td>\n",
       "      <td>0.004131</td>\n",
       "      <td>0.038635</td>\n",
       "      <td>0.003720</td>\n",
       "      <td>-0.612492</td>\n",
       "      <td>-0.228632</td>\n",
       "      <td>1.000000</td>\n",
       "    </tr>\n",
       "  </tbody>\n",
       "</table>\n",
       "</div>"
      ],
      "text/plain": [
       "                        Row ID  Discount  Unit Price  Shipping Cost  \\\n",
       "Row ID                1.000000  0.000159    0.006013       0.006623   \n",
       "Discount              0.000159  1.000000    0.001242       0.002907   \n",
       "Unit Price            0.006013  0.001242    1.000000       0.311096   \n",
       "Shipping Cost         0.006623  0.002907    0.311096       1.000000   \n",
       "Customer ID           0.035232 -0.009180   -0.017679      -0.019277   \n",
       "Product Base Margin  -0.001871  0.006839    0.119362       0.417205   \n",
       "Postal Code           0.033987 -0.001531   -0.010841      -0.013294   \n",
       "Profit               -0.000298 -0.032304    0.245763      -0.083272   \n",
       "Quantity ordered new -0.586831 -0.008640   -0.037980      -0.030452   \n",
       "Sales                -0.220869 -0.014077    0.540051       0.325326   \n",
       "Order ID              0.918587  0.000350    0.008470       0.007488   \n",
       "\n",
       "                      Customer ID  Product Base Margin  Postal Code    Profit  \\\n",
       "Row ID                   0.035232            -0.001871     0.033987 -0.000298   \n",
       "Discount                -0.009180             0.006839    -0.001531 -0.032304   \n",
       "Unit Price              -0.017679             0.119362    -0.010841  0.245763   \n",
       "Shipping Cost           -0.019277             0.417205    -0.013294 -0.083272   \n",
       "Customer ID              1.000000            -0.015510    -0.083468 -0.005771   \n",
       "Product Base Margin     -0.015510             1.000000    -0.004987 -0.093510   \n",
       "Postal Code             -0.083468            -0.004987     1.000000  0.032323   \n",
       "Profit                  -0.005771            -0.093510     0.032323  1.000000   \n",
       "Quantity ordered new    -0.023643             0.002285    -0.014500  0.105127   \n",
       "Sales                   -0.015770             0.156021    -0.017011  0.396902   \n",
       "Order ID                 0.038660             0.004131     0.038635  0.003720   \n",
       "\n",
       "                      Quantity ordered new     Sales  Order ID  \n",
       "Row ID                           -0.586831 -0.220869  0.918587  \n",
       "Discount                         -0.008640 -0.014077  0.000350  \n",
       "Unit Price                       -0.037980  0.540051  0.008470  \n",
       "Shipping Cost                    -0.030452  0.325326  0.007488  \n",
       "Customer ID                      -0.023643 -0.015770  0.038660  \n",
       "Product Base Margin               0.002285  0.156021  0.004131  \n",
       "Postal Code                      -0.014500 -0.017011  0.038635  \n",
       "Profit                            0.105127  0.396902  0.003720  \n",
       "Quantity ordered new              1.000000  0.360657 -0.612492  \n",
       "Sales                             0.360657  1.000000 -0.228632  \n",
       "Order ID                         -0.612492 -0.228632  1.000000  "
      ]
     },
     "execution_count": 16,
     "metadata": {},
     "output_type": "execute_result"
    }
   ],
   "source": [
    "# correlation study with pandas\n",
    "# note: the default test used is pearson correlation but there are other tests as well\n",
    "salesDF.corr()"
   ]
  },
  {
   "cell_type": "markdown",
   "metadata": {},
   "source": [
    "The correlation chart above shows how a variable is correlated to another.<br>\n",
    "The closer the number is to +1 or -1, the more correlated it is.\n",
    "\n",
    "<img src=\"./images/about correlation.jpg\" style=\"height:400px\"/>\n"
   ]
  },
  {
   "cell_type": "code",
   "execution_count": null,
   "metadata": {
    "collapsed": true
   },
   "outputs": [],
   "source": [
    "salesDF"
   ]
  },
  {
   "cell_type": "markdown",
   "metadata": {},
   "source": [
    "## However, it isn't that straightforward!\n",
    "<br>\n",
    "Pearson's correlation is one of the most commonly used correlation study only works when both variables are normal distributions and is very sensitive to outliers. We run the pearson's correlation test when we want to know if there is a linear relationship between the variables<br/>\n",
    "\n",
    "Spearman's correlation is typically superior to Pearson's correlation as it can work for variables that are not normal distributions (such as ordinals*)<br/>\n",
    "see https://statistics.laerd.com/statistical-guides/spearmans-rank-order-correlation-statistical-guide.php and https://en.wikipedia.org/wiki/Spearman%27s_rank_correlation_coefficient for good explanations on why it is better.<br/>\n",
    "\n",
    "*Ordinal = ordered categories i.e. \"unhappy\", \"neutral\", \"happy\"\n",
    "<br/>\n",
    "\n",
    "<img src=\"./images/spearman_pearson.png\" style=\"height: 300px;\"/>\n",
    "\n",
    "Similarly Kendall's correlation is better than Spearman's as it allows for more outliers. It may be more computationally expensive but that is becoming trivial as computing power increases.\n",
    "\n",
    "Note: these correlation tests are only hypotheses.. more on this later.\n"
   ]
  },
  {
   "cell_type": "code",
   "execution_count": null,
   "metadata": {
    "collapsed": true
   },
   "outputs": [],
   "source": []
  },
  {
   "cell_type": "code",
   "execution_count": 4,
   "metadata": {
    "collapsed": true
   },
   "outputs": [],
   "source": [
    "# lets start off with a chi square test for categorical data fields\n",
    "# we import scipy, a library for scientific tests.\n",
    "# it comes with a statistics library with many convenient functions for statistical tests\n",
    "from scipy import stats"
   ]
  },
  {
   "cell_type": "markdown",
   "metadata": {},
   "source": [
    "The Chi square test is to test if the a subset of population in the dataset causes significant skew towards an outcome.<br>\n",
    "\n",
    "<img src=\"./images/hqdefault.jpg\" style=\"height:300px\">"
   ]
  },
  {
   "cell_type": "code",
   "execution_count": 5,
   "metadata": {
    "collapsed": true
   },
   "outputs": [],
   "source": [
    "# lets convert a measurement into a categorical variable.\n",
    "salesDF[\"MadeProfit\"]  = salesDF.Profit >= 0"
   ]
  },
  {
   "cell_type": "code",
   "execution_count": 6,
   "metadata": {},
   "outputs": [
    {
     "data": {
      "text/plain": [
       "True     4312\n",
       "False    4120\n",
       "Name: MadeProfit, dtype: int64"
      ]
     },
     "execution_count": 6,
     "metadata": {},
     "output_type": "execute_result"
    }
   ],
   "source": [
    "# what is the global distribution of this category\n",
    "salesDF.MadeProfit.value_counts()"
   ]
  },
  {
   "cell_type": "code",
   "execution_count": 7,
   "metadata": {},
   "outputs": [
    {
     "data": {
      "text/plain": [
       "High             1737\n",
       "Low              1732\n",
       "Not Specified    1680\n",
       "Medium           1667\n",
       "Critical         1615\n",
       "Critical            1\n",
       "Name: Order Priority, dtype: int64"
      ]
     },
     "execution_count": 7,
     "metadata": {},
     "output_type": "execute_result"
    }
   ],
   "source": [
    "# not all categories are equal\n",
    "salesDF[\"Order Priority\"].value_counts()"
   ]
  },
  {
   "cell_type": "code",
   "execution_count": 8,
   "metadata": {},
   "outputs": [
    {
     "data": {
      "text/html": [
       "<div>\n",
       "<style scoped>\n",
       "    .dataframe tbody tr th:only-of-type {\n",
       "        vertical-align: middle;\n",
       "    }\n",
       "\n",
       "    .dataframe tbody tr th {\n",
       "        vertical-align: top;\n",
       "    }\n",
       "\n",
       "    .dataframe thead th {\n",
       "        text-align: right;\n",
       "    }\n",
       "</style>\n",
       "<table border=\"1\" class=\"dataframe\">\n",
       "  <thead>\n",
       "    <tr style=\"text-align: right;\">\n",
       "      <th>Order Priority</th>\n",
       "      <th>Critical</th>\n",
       "      <th>Critical</th>\n",
       "      <th>High</th>\n",
       "      <th>Low</th>\n",
       "      <th>Medium</th>\n",
       "      <th>Not Specified</th>\n",
       "    </tr>\n",
       "    <tr>\n",
       "      <th>MadeProfit</th>\n",
       "      <th></th>\n",
       "      <th></th>\n",
       "      <th></th>\n",
       "      <th></th>\n",
       "      <th></th>\n",
       "      <th></th>\n",
       "    </tr>\n",
       "  </thead>\n",
       "  <tbody>\n",
       "    <tr>\n",
       "      <th>False</th>\n",
       "      <td>815</td>\n",
       "      <td>1</td>\n",
       "      <td>833</td>\n",
       "      <td>837</td>\n",
       "      <td>803</td>\n",
       "      <td>831</td>\n",
       "    </tr>\n",
       "    <tr>\n",
       "      <th>True</th>\n",
       "      <td>800</td>\n",
       "      <td>0</td>\n",
       "      <td>904</td>\n",
       "      <td>895</td>\n",
       "      <td>864</td>\n",
       "      <td>849</td>\n",
       "    </tr>\n",
       "  </tbody>\n",
       "</table>\n",
       "</div>"
      ],
      "text/plain": [
       "Order Priority  Critical  Critical   High  Low  Medium  Not Specified\n",
       "MadeProfit                                                           \n",
       "False                815          1   833  837     803            831\n",
       "True                 800          0   904  895     864            849"
      ]
     },
     "execution_count": 8,
     "metadata": {},
     "output_type": "execute_result"
    }
   ],
   "source": [
    "# lets create a table similar to the one above for chi square\n",
    "madeProfitCrossOrderPriority = pandas.crosstab(salesDF[\"MadeProfit\"], salesDF[\"Order Priority\"])\n",
    "madeProfitCrossOrderPriority"
   ]
  },
  {
   "cell_type": "code",
   "execution_count": 9,
   "metadata": {},
   "outputs": [
    {
     "data": {
      "text/plain": [
       "(4.0389006116900203,\n",
       " 0.54382892665861349,\n",
       " 5,\n",
       " array([[  7.89112903e+02,   4.88614801e-01,   8.48723909e+02,\n",
       "           8.46280835e+02,   8.14520873e+02,   8.20872865e+02],\n",
       "        [  8.25887097e+02,   5.11385199e-01,   8.88276091e+02,\n",
       "           8.85719165e+02,   8.52479127e+02,   8.59127135e+02]]))"
      ]
     },
     "execution_count": 9,
     "metadata": {},
     "output_type": "execute_result"
    }
   ],
   "source": [
    "stats.chi2_contingency(madeProfitCrossOrderPriority)\n",
    "# remember to check the documentation on the return values"
   ]
  },
  {
   "cell_type": "code",
   "execution_count": 10,
   "metadata": {
    "collapsed": true
   },
   "outputs": [],
   "source": [
    "chiSquareStatistic, pValue, degreeOfFreedom, _ = stats.chi2_contingency(madeProfitCrossOrderPriority)"
   ]
  },
  {
   "cell_type": "code",
   "execution_count": 11,
   "metadata": {},
   "outputs": [
    {
     "data": {
      "text/plain": [
       "(4.0389006116900203, 0.54382892665861349, 5)"
      ]
     },
     "execution_count": 11,
     "metadata": {},
     "output_type": "execute_result"
    }
   ],
   "source": [
    "chiSquareStatistic, pValue, degreeOfFreedom"
   ]
  },
  {
   "cell_type": "markdown",
   "metadata": {},
   "source": [
    "What is this p-value?<br>\n",
    "Recall the distribution curve from the previous excercise<br>\n",
    "\n",
    "<img src=\"./images/2017-09-11-Statistical-Significance-P-Value-1.png\"  style=\"height:300px\">\n",
    "\n",
    "This p-value is a derived value from the chi square statistic and the degrees of freedom.<br>\n",
    "Further reading for those that want to delve deeper https://machinelearningmastery.com/chi-squared-test-for-machine-learning/\n",
    "\n",
    "The p-value by rule of thumb should be less than 0.05 (5%). <br>\n",
    "You can choose a lower p-value i.e. 0.01 which in turn means you are more sure of this result. <br>\n"
   ]
  },
  {
   "cell_type": "markdown",
   "metadata": {},
   "source": [
    "Try this out on other categorical data fields.<br>\n",
    "For the more advanced Python users, try writing a function to find correlated values and filter them out from the rest of the data.\n",
    "\n",
    "## Note down the significant categorical columns"
   ]
  },
  {
   "cell_type": "code",
   "execution_count": null,
   "metadata": {
    "collapsed": true
   },
   "outputs": [],
   "source": []
  },
  {
   "cell_type": "markdown",
   "metadata": {},
   "source": [
    "Pearson's correlation is used for numerical data (measurements). \n",
    "\n",
    "\n",
    "<img src=\"./images/corsample-1.png\"  style=\"height:500px\"/>"
   ]
  },
  {
   "cell_type": "code",
   "execution_count": 12,
   "metadata": {},
   "outputs": [
    {
     "data": {
      "text/plain": [
       "(-0.037980245859996056, 0.00048607948268290975)"
      ]
     },
     "execution_count": 12,
     "metadata": {},
     "output_type": "execute_result"
    }
   ],
   "source": [
    "stats.pearsonr(salesDF[\"Quantity ordered new\"], salesDF[\"Unit Price\"])"
   ]
  },
  {
   "cell_type": "code",
   "execution_count": 13,
   "metadata": {},
   "outputs": [
    {
     "data": {
      "text/plain": [
       "(-0.008640134291191837, 0.42761151358930671)"
      ]
     },
     "execution_count": 13,
     "metadata": {},
     "output_type": "execute_result"
    }
   ],
   "source": [
    "stats.pearsonr(salesDF[\"Quantity ordered new\"], salesDF[\"Discount\"])"
   ]
  },
  {
   "cell_type": "markdown",
   "metadata": {},
   "source": [
    "Try this out on a few more measurements to see what you get!"
   ]
  },
  {
   "cell_type": "code",
   "execution_count": null,
   "metadata": {
    "collapsed": true
   },
   "outputs": [],
   "source": []
  },
  {
   "cell_type": "markdown",
   "metadata": {},
   "source": [
    "There are numerous more statistical tests and special scenarios of when to use them.<br>\n",
    "These are just an introduction to correlation studies and statistics but they do give a starting point on what variables are significant to each other. <br>\n",
    "\n",
    "## A very important pitfall:\n",
    "\n",
    "<img src=\"./images/dreamstime_m_37904189.jpg\" style=\"height:500px\">\n",
    "\n"
   ]
  },
  {
   "cell_type": "markdown",
   "metadata": {},
   "source": [
    "## Additional Excercise:\n",
    "1. What are the analytics pitfalls demostrated here.\n",
    "2. How would you avoid or verify such pitfalls?\n",
    "3. What can you do with these insights on correlation?\n",
    "4. Additional homework: when should you not use chi square test?\n",
    "\n"
   ]
  },
  {
   "cell_type": "code",
   "execution_count": null,
   "metadata": {
    "collapsed": true
   },
   "outputs": [],
   "source": []
  },
  {
   "cell_type": "markdown",
   "metadata": {
    "collapsed": true
   },
   "source": [
    "## Correlation, Covariance, Cointegration\n",
    "\n",
    "Statistical tests are continuously evolving to better quantify any relationship between variables.<br/>\n",
    "\n",
    "Covariance is one such measure to see how tightly the relationship is between the variables<br/>\n",
    "<img src=\"./images/correlation_covariance.jpg\" style=\"height:400px\"/>\n",
    "\n",
    "As financial analytics (quants) gets more popular, more statistical research goes into studying how variables move similarly in the stock market. <br/>\n",
    "Cointegration is a measurement for how correlation a set of variables across timeseries is related to each other.\n",
    "\n",
    "<img src=\"./images/cointegration.png\" style=\"height:400px\"/>"
   ]
  },
  {
   "cell_type": "code",
   "execution_count": null,
   "metadata": {
    "collapsed": true
   },
   "outputs": [],
   "source": []
  },
  {
   "cell_type": "code",
   "execution_count": null,
   "metadata": {
    "collapsed": true
   },
   "outputs": [],
   "source": []
  },
  {
   "cell_type": "code",
   "execution_count": null,
   "metadata": {
    "collapsed": true
   },
   "outputs": [],
   "source": []
  }
 ],
 "metadata": {
  "kernelspec": {
   "display_name": "Python 3",
   "language": "python",
   "name": "python3"
  },
  "language_info": {
   "codemirror_mode": {
    "name": "ipython",
    "version": 3
   },
   "file_extension": ".py",
   "mimetype": "text/x-python",
   "name": "python",
   "nbconvert_exporter": "python",
   "pygments_lexer": "ipython3",
   "version": "3.6.1"
  }
 },
 "nbformat": 4,
 "nbformat_minor": 2
}
