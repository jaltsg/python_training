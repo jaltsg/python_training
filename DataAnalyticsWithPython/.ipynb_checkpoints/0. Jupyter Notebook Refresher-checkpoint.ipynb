{
 "cells": [
  {
   "cell_type": "markdown",
   "metadata": {},
   "source": [
    "# Jupyter Notebook IDE"
   ]
  },
  {
   "cell_type": "markdown",
   "metadata": {},
   "source": [
    "This is an Jupyter notebook, previously known as IPython notebook. <br>\n",
    "It acts as an Integrated Development Environment (IDE) as well as serves as a mechanism for documentation. <br>\n",
    "An IDE gives convenience to the programmer as it will have useful features:\n",
    "* Autocomplete for libraries, functions and variables.\n",
    "* Quick view of documentation\n",
    "* Syntax highlighting\n"
   ]
  },
  {
   "cell_type": "markdown",
   "metadata": {},
   "source": [
    "Each of these sections or snippets are cells. You can run each cell's contents by pressing shift enter."
   ]
  },
  {
   "cell_type": "markdown",
   "metadata": {},
   "source": [
    "You can change the type of cell this is by the drop down box above. <br>\n",
    "The important ones you need to know now are Code, and Markdown. <br>\n",
    "These cells are using Markdown. <br>\n",
    "The syntax for writing documentation in Markdown is similar to writing into Wikipedia pages with a mixture of html. <br>\n",
    "Double click to select and edit this Markdown cell! <br>\n",
    "Finish editing by using <b><font color='red'>Shift-Enter</font></b>\n"
   ]
  },
  {
   "cell_type": "markdown",
   "metadata": {},
   "source": [
    "Let's try running some Python commands in these cells"
   ]
  },
  {
   "cell_type": "code",
   "execution_count": 20,
   "metadata": {},
   "outputs": [
    {
     "name": "stdout",
     "output_type": "stream",
     "text": [
      "Hello there!\n"
     ]
    }
   ],
   "source": [
    "print(\"Hello there!\")"
   ]
  },
  {
   "cell_type": "markdown",
   "metadata": {},
   "source": [
    "A couple of tips when using this IDE.<br><br>\n",
    "<b>Tab</b> to autocomplete:\n",
    "1. Autocomplete using tab. Commonly used commands can be auto-completed; preventing typos.\n",
    "2. Tab also gives you hints of what commands you can use. \n",
    "3. Tab also autocompletes filenames; Again this prevents typos especialy for long filenames.\n",
    "<br>\n",
    "<br>\n",
    "\n",
    "<b>Shift-Tab</b> to get documentation\n",
    "1. Pressing Shift-Tab while typing a module name or a function will give you documentation.\n",
    "2. Pressing 1 time gives a summary, 2 times a larger summary, 3 times leaves summary around longer while you are typing, 4 times opens the documentation as a frame for easier reference.\n",
    "\n",
    "Try it out!"
   ]
  },
  {
   "cell_type": "code",
   "execution_count": 23,
   "metadata": {},
   "outputs": [],
   "source": [
    "# any line with a # in front is a comment line\n",
    "# import the datetime library/module.\n",
    "# Many commonly used functions have already been converted to libraries to promote re-usability\n",
    "from datetime import datetime"
   ]
  },
  {
   "cell_type": "code",
   "execution_count": 25,
   "metadata": {},
   "outputs": [],
   "source": [
    "now = datetime.now()"
   ]
  },
  {
   "cell_type": "code",
   "execution_count": null,
   "metadata": {
    "collapsed": true
   },
   "outputs": [],
   "source": []
  },
  {
   "cell_type": "markdown",
   "metadata": {},
   "source": [
    "You can have a quick peek at the data variable just by executing the cell with the variable name"
   ]
  },
  {
   "cell_type": "code",
   "execution_count": 26,
   "metadata": {},
   "outputs": [
    {
     "data": {
      "text/plain": [
       "datetime.datetime(2018, 9, 3, 20, 14, 28, 120910)"
      ]
     },
     "execution_count": 26,
     "metadata": {},
     "output_type": "execute_result"
    }
   ],
   "source": [
    "now"
   ]
  },
  {
   "cell_type": "markdown",
   "metadata": {},
   "source": [
    "If the data structure has a special \\__str\\__ method, it will print print out differently!"
   ]
  },
  {
   "cell_type": "code",
   "execution_count": 27,
   "metadata": {},
   "outputs": [
    {
     "name": "stdout",
     "output_type": "stream",
     "text": [
      "2018-09-03 20:14:28.120910\n"
     ]
    }
   ],
   "source": [
    "print(now)"
   ]
  },
  {
   "cell_type": "code",
   "execution_count": null,
   "metadata": {
    "collapsed": true
   },
   "outputs": [],
   "source": []
  },
  {
   "cell_type": "markdown",
   "metadata": {},
   "source": [
    "# Code Snippets"
   ]
  },
  {
   "cell_type": "markdown",
   "metadata": {},
   "source": [
    "The following section will contain snippets of codes for a quick refresher on flow control in Python"
   ]
  },
  {
   "cell_type": "code",
   "execution_count": 53,
   "metadata": {
    "collapsed": true
   },
   "outputs": [],
   "source": [
    "name = \"There\"\n",
    "now = datetime.now()"
   ]
  },
  {
   "cell_type": "code",
   "execution_count": 59,
   "metadata": {},
   "outputs": [
    {
     "name": "stdout",
     "output_type": "stream",
     "text": [
      "Hello There\n",
      "It is now 2018-09-03 20:14:28.120910\n"
     ]
    }
   ],
   "source": [
    "print(\"Hello \" + name)\n",
    "print(\"It is now \" +  str(now))"
   ]
  },
  {
   "cell_type": "code",
   "execution_count": 62,
   "metadata": {},
   "outputs": [
    {
     "name": "stdout",
     "output_type": "stream",
     "text": [
      "Hello There!\n",
      "It is now 2018-09-03 20:14:28.120910\n"
     ]
    }
   ],
   "source": [
    "print(\"Hello %s!\\nIt is now\" % name, now)"
   ]
  },
  {
   "cell_type": "code",
   "execution_count": 31,
   "metadata": {
    "collapsed": true
   },
   "outputs": [],
   "source": [
    "listOfVars = [\"item1\", 234, \"item 3\", \"item 5\"]\n",
    "listOfVars += [\"item 6\"]"
   ]
  },
  {
   "cell_type": "code",
   "execution_count": 32,
   "metadata": {},
   "outputs": [
    {
     "name": "stdout",
     "output_type": "stream",
     "text": [
      "item1\n",
      "234\n",
      "item 3\n",
      "item 5\n",
      "item 6\n"
     ]
    }
   ],
   "source": [
    "for aVar in listOfVars:\n",
    "    print(aVar)"
   ]
  },
  {
   "cell_type": "code",
   "execution_count": 34,
   "metadata": {},
   "outputs": [
    {
     "data": {
      "text/plain": [
       "('item1', 'item 6', 5)"
      ]
     },
     "execution_count": 34,
     "metadata": {},
     "output_type": "execute_result"
    }
   ],
   "source": [
    "listOfVars[0], listOfVars[-1], len(listOfVars) "
   ]
  },
  {
   "cell_type": "code",
   "execution_count": 65,
   "metadata": {},
   "outputs": [
    {
     "data": {
      "text/plain": [
       "[234, 'item 3']"
      ]
     },
     "execution_count": 65,
     "metadata": {},
     "output_type": "execute_result"
    }
   ],
   "source": [
    "listOfVars[1:3]"
   ]
  },
  {
   "cell_type": "code",
   "execution_count": null,
   "metadata": {
    "collapsed": true
   },
   "outputs": [],
   "source": []
  },
  {
   "cell_type": "code",
   "execution_count": 37,
   "metadata": {
    "collapsed": true
   },
   "outputs": [],
   "source": [
    "# note the brackets!\n",
    "dictOfStuff = {\n",
    "    \"Data Analytics\": \"The science of drawing insights from raw information sources\",\n",
    "    \"Dictionary\": \"\"\"a book or electronic resource that lists the words of a language (typically in alphabetical order) and gives their meaning, or gives the equivalent words in a different language, often also providing information about pronunciation, origin, and usage\"\"\"\n",
    "}"
   ]
  },
  {
   "cell_type": "code",
   "execution_count": 38,
   "metadata": {},
   "outputs": [
    {
     "data": {
      "text/plain": [
       "{'Data Analytics': 'The science of drawing insights from raw information sources',\n",
       " 'Dictionary': 'a book or electronic resource that lists the words of a language (typically in alphabetical order) and gives their meaning, or gives the equivalent words in a different language, often also providing information about pronunciation, origin, and usage'}"
      ]
     },
     "execution_count": 38,
     "metadata": {},
     "output_type": "execute_result"
    }
   ],
   "source": [
    "dictOfStuff"
   ]
  },
  {
   "cell_type": "code",
   "execution_count": 43,
   "metadata": {
    "collapsed": true
   },
   "outputs": [],
   "source": [
    "dictOfStuff[42]  = \"The meaning of life\"\n",
    "dictOfStuff[\"Key\"] = \"Value\""
   ]
  },
  {
   "cell_type": "code",
   "execution_count": 44,
   "metadata": {},
   "outputs": [
    {
     "data": {
      "text/plain": [
       "{'Data Analytics': 'The science of drawing insights from raw information sources',\n",
       " 'Dictionary': 'a book or electronic resource that lists the words of a language (typically in alphabetical order) and gives their meaning, or gives the equivalent words in a different language, often also providing information about pronunciation, origin, and usage',\n",
       " 42: 'The meaning of life',\n",
       " 'Key': 'Value'}"
      ]
     },
     "execution_count": 44,
     "metadata": {},
     "output_type": "execute_result"
    }
   ],
   "source": [
    "dictOfStuff"
   ]
  },
  {
   "cell_type": "code",
   "execution_count": 64,
   "metadata": {},
   "outputs": [
    {
     "name": "stdout",
     "output_type": "stream",
     "text": [
      "Data Analytics\n",
      "The science of drawing insights from raw information sources\n",
      "================================================================================\n",
      "Dictionary\n",
      "a book or electronic resource that lists the words of a language (typically in alphabetical order) and gives their meaning, or gives the equivalent words in a different language, often also providing information about pronunciation, origin, and usage\n",
      "================================================================================\n",
      "42\n",
      "The meaning of life\n",
      "================================================================================\n",
      "Key\n",
      "Value\n",
      "================================================================================\n"
     ]
    }
   ],
   "source": [
    "for aKey in dictOfStuff:\n",
    "    print(aKey)\n",
    "    print(dictOfStuff[aKey])\n",
    "    print(\"=\"*80)"
   ]
  },
  {
   "cell_type": "code",
   "execution_count": null,
   "metadata": {
    "collapsed": true
   },
   "outputs": [],
   "source": []
  }
 ],
 "metadata": {
  "kernelspec": {
   "display_name": "Python 3",
   "language": "python",
   "name": "python3"
  },
  "language_info": {
   "codemirror_mode": {
    "name": "ipython",
    "version": 3
   },
   "file_extension": ".py",
   "mimetype": "text/x-python",
   "name": "python",
   "nbconvert_exporter": "python",
   "pygments_lexer": "ipython3",
   "version": "3.6.1"
  }
 },
 "nbformat": 4,
 "nbformat_minor": 2
}
