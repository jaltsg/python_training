{
 "cells": [
  {
   "cell_type": "markdown",
   "metadata": {},
   "source": [
    "# Data Understanding\n",
    "What are the different types of data fields?\n"
   ]
  },
  {
   "cell_type": "raw",
   "metadata": {},
   "source": [
    "identifierColumns = [\n",
    "    \"Row ID\",\n",
    "    \"Customer ID\",\n",
    "    \"Customer Name\",\n",
    "    \"Product Name\",\n",
    "    \"State or Province\",\n",
    "    \"City\",\n",
    "    \"Postal Code\",\n",
    "    \"Order Date\",\n",
    "    \"Ship Date\",\n",
    "    \"Order ID\",\n",
    "]"
   ]
  },
  {
   "cell_type": "raw",
   "metadata": {},
   "source": [
    "categoryColumns = [\n",
    "    \"Order Priority\",\n",
    "    \"Ship Mode\",\n",
    "    \"Customer Segment\",\n",
    "    \"Product Category\",\n",
    "    \"Product Sub-Category\",\n",
    "    \"Product Container\",\n",
    "    \"Region\",\n",
    "    \"State or Province\",\n",
    "    \"City\"\n",
    "]"
   ]
  },
  {
   "cell_type": "raw",
   "metadata": {},
   "source": [
    "measurementColumns = [\n",
    "    \"Discount\",\n",
    "    \"Unit Price\",\n",
    "    \"Shipping Cost\",\n",
    "    \"Product Base Margin\",\n",
    "    \"Profit\",\n",
    "    \"Quantity ordered new\",\n",
    "    \"Sales\"\n",
    "]"
   ]
  },
  {
   "cell_type": "markdown",
   "metadata": {},
   "source": [
    "Identify the Key Entities involved with the sales data\n",
    "\n",
    "Ans: \n",
    "\n",
    "salesTransaction = {\n",
    "    \"Row ID\",\n",
    "}\n",
    "\n",
    "person = {\n",
    "    \"Customer ID\",\n",
    "    \"Customer Name\",\n",
    "}\n",
    "\n",
    "product = {\n",
    "    \"Product Name\",\n",
    "}\n",
    "\n",
    "geography = {\n",
    "    \"State or Province\",\n",
    "    \"City\",\n",
    "    \"Postal Code\",\n",
    "}\n",
    "\n",
    "order = {\n",
    "    \"Order ID\",\n",
    "}\n",
    "\n",
    "shipping = {\n",
    "}\n",
    "\n",
    "product = {\n",
    "}\n",
    "\n",
    "\n",
    "\n",
    "\n"
   ]
  },
  {
   "cell_type": "markdown",
   "metadata": {},
   "source": [
    "2) Identify the metadata or attributes of each key entity.\n",
    "\n",
    "Key entities of interest are person/customer, sales, product\n",
    "\n",
    "personMetadata = {\n",
    "    \"Customer Name\",\n",
    "    \"Customer Segment\",\n",
    "}\n",
    "\n",
    "salesMetadata = {\n",
    "    \"Discount\",\n",
    "    \"Product Base Margin\",\n",
    "    \"Profit\",\n",
    "    \"Quantity ordered new\",\n",
    "    \"Sales\"\n",
    "}\n",
    "\n",
    "product = {\n",
    "    \"Product Name\",\n",
    "    \"Product Category\",\n",
    "    \"Product Sub-Category\",\n",
    "    \"Unit Price\",\n",
    "}\n",
    "\n",
    "\n"
   ]
  },
  {
   "cell_type": "markdown",
   "metadata": {},
   "source": [
    "3) What other possible data points or entities does this data set link to?\n",
    "\n",
    "Shipment, Product, Order\n",
    "\n",
    "This is important as there may be metadata belonging to these entities that allow us to conduct more in-depth analyses.\n",
    "\n",
    "\n",
    "\n",
    "\n"
   ]
  },
  {
   "cell_type": "markdown",
   "metadata": {},
   "source": [
    "# Descriptive Analytics\n",
    "\n",
    "Try out a few other plots.\n"
   ]
  },
  {
   "cell_type": "raw",
   "metadata": {},
   "source": [
    "salesDF.plot.scatter(\"Profit\", \"Discount\")"
   ]
  },
  {
   "cell_type": "raw",
   "metadata": {},
   "source": [
    "salesDF.boxplot(\"Profit\", by=\"Product Category\")"
   ]
  },
  {
   "cell_type": "markdown",
   "metadata": {},
   "source": [
    "What other actionable insights are there? Hint: asking for more data points/fields is also an action.\n",
    "\n",
    "Other actionable insights is to ask for more data points to join with the current dataset.\n",
    "<br>\n",
    "Although we have 3 modes of delivery, there may be some other factor like which company does the deivery. <br>\n",
    "If a certain trend such as person ordering and delivery company is the same; such cases have been sucessfully been highlighted and investigated to be fraud.<br>\n",
    "\n"
   ]
  },
  {
   "cell_type": "markdown",
   "metadata": {},
   "source": [
    "What is the benefit of generating insights through a program? \n",
    "\n",
    "Since the steps are systematic, it can be coded into a program to process the data. It can be made automatic, and at regular intervals.<br>\n",
    "Once coded and tested, eliminates human error.\n"
   ]
  },
  {
   "cell_type": "markdown",
   "metadata": {},
   "source": [
    "What other data slice and dice do you think should would give beneficial insight and how to make it actionable or trackable?\n",
    "\n",
    "Key metrics (Key Performance Metrics) should be represented primarily, then in conjunction with another data field. Such data fields are usually to a correlated categorical datafield.<br>\n",
    "These are usually represented as charts into a dashboard. The art of building such dashboards is also known as Business Intelligence or Visual Analytics. Some dashboards will even allow the user to drill down to the individual entities.\n",
    "\n",
    "See https://bokeh.pydata.org/en/latest/ and https://github.com/plotly/dash for examples of charts used in dashboards.\n"
   ]
  },
  {
   "cell_type": "markdown",
   "metadata": {},
   "source": [
    "# Diagnostic Analytics\n",
    "\n",
    "Other Significant columns (categorical only)"
   ]
  },
  {
   "cell_type": "raw",
   "metadata": {},
   "source": [
    "\n",
    "categoryColumns = [\n",
    "    \"Order Priority\",\n",
    "    \"Ship Mode\",\n",
    "    \"Customer Segment\",\n",
    "    \"Product Category\",\n",
    "    \"Product Sub-Category\",\n",
    "    \"Product Container\",\n",
    "    \"Region\",\n",
    "    \"State or Province\",\n",
    "    \"City\"\n",
    "]\n",
    "for catA in categoryColumns:\n",
    "    chiSquareStatistic, pValue, degreeOfFreedom, _ = stats.chi2_contingency(pandas.crosstab(salesDF[catA], salesDF[\"MadeProfit\"]))\n",
    "    if pValue < 0.05:\n",
    "        print(\"%s\\t%s\\t%.3f\\t%.3f\" % (catA, \"MadeProfit\", pValue, chiSquareStatistic))"
   ]
  },
  {
   "cell_type": "raw",
   "metadata": {},
   "source": [
    "measurementColumns = [\n",
    "    \"Discount\",\n",
    "    \"Unit Price\",\n",
    "    \"Shipping Cost\",\n",
    "    \"Product Base Margin\",\n",
    "    \"Profit\",\n",
    "    \"Quantity ordered new\",\n",
    "    \"Sales\"\n",
    "]\n",
    "\n",
    "for catA in measurementColumns:\n",
    "    (relation, pValue) = stats.pearsonr(salesDF[catA], salesDF[\"MadeProfit\"])\n",
    "    if pValue < 0.05:\n",
    "        print(\"%s\\t%s\\t%.3f\\t%.3f\" % (catA, \"MadeProfit\", pValue, relation))"
   ]
  },
  {
   "cell_type": "markdown",
   "metadata": {},
   "source": [
    "What are the analytics pitfalls demostrated here.\n",
    "\n",
    "Data fields may be correlated to each other, but may not necessarily mean it caused an effect; it may be receiving the effect.<br>\n",
    "In other words, 2 fields may be correlated because one is a derived value.<br>\n",
    "Data fields may be correlated to each other, but we need to look at the magnitude of impact to gauge how important it is as well.<br>\n",
    "Although convenient to have a correlation function, we need to note the pValue as it negates the null hypothesis (tells us how certain we are of the test statistic)\n",
    "\n",
    "How to avoid or verify such pitfalls?\n",
    "\n",
    "Correlation vs Causation: The most straightforward is to check the temporality (time) of the datapoints being examined. The next best way is to conduct an experiment where you can control the variable.\n",
    "More reading on how to avoid: https://statswithcats.wordpress.com/2015/01/01/how-to-tell-if-correlation-implies-causation/\n",
    "\n",
    "What can you do with these insights on correlation?\n",
    "\n",
    "It can be used as part of a dashboard for realtime tracking of metrics with KPI.<br>\n",
    "It is also used to filter down variables to be used in the modeling process.\n",
    "\n",
    "Additional homework: when should you not use chi square test?\n",
    "\n",
    "When you do not have enough data points, when it is not a categorical data field.<br>\n",
    "Do remember to read the documentation of the function; Many Python data science libraries are well documented.\n",
    "\n",
    "\n",
    "\n"
   ]
  },
  {
   "cell_type": "code",
   "execution_count": null,
   "metadata": {
    "collapsed": true
   },
   "outputs": [],
   "source": []
  },
  {
   "cell_type": "code",
   "execution_count": null,
   "metadata": {
    "collapsed": true
   },
   "outputs": [],
   "source": []
  },
  {
   "cell_type": "code",
   "execution_count": null,
   "metadata": {
    "collapsed": true
   },
   "outputs": [],
   "source": []
  },
  {
   "cell_type": "code",
   "execution_count": null,
   "metadata": {
    "collapsed": true
   },
   "outputs": [],
   "source": []
  }
 ],
 "metadata": {
  "kernelspec": {
   "display_name": "Python 3",
   "language": "python",
   "name": "python3"
  },
  "language_info": {
   "codemirror_mode": {
    "name": "ipython",
    "version": 3
   },
   "file_extension": ".py",
   "mimetype": "text/x-python",
   "name": "python",
   "nbconvert_exporter": "python",
   "pygments_lexer": "ipython3",
   "version": "3.6.1"
  }
 },
 "nbformat": 4,
 "nbformat_minor": 2
}
